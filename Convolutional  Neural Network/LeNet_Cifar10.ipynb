{
  "nbformat": 4,
  "nbformat_minor": 0,
  "metadata": {
    "colab": {
      "name": "LeNet_Cifar10.ipynb",
      "provenance": []
    },
    "kernelspec": {
      "name": "python3",
      "display_name": "Python 3"
    },
    "accelerator": "GPU",
    "widgets": {
      "application/vnd.jupyter.widget-state+json": {
        "6bcf578c9b9248498bbf87b9775e3a14": {
          "model_module": "@jupyter-widgets/controls",
          "model_name": "HBoxModel",
          "state": {
            "_view_name": "HBoxView",
            "_dom_classes": [],
            "_model_name": "HBoxModel",
            "_view_module": "@jupyter-widgets/controls",
            "_model_module_version": "1.5.0",
            "_view_count": null,
            "_view_module_version": "1.5.0",
            "box_style": "",
            "layout": "IPY_MODEL_559094f5452a48f9be912fbdf12674d9",
            "_model_module": "@jupyter-widgets/controls",
            "children": [
              "IPY_MODEL_3808ade1de5c47b280f16407682fd232",
              "IPY_MODEL_ef47b7df39b542ad81383adb8d6369e7"
            ]
          }
        },
        "559094f5452a48f9be912fbdf12674d9": {
          "model_module": "@jupyter-widgets/base",
          "model_name": "LayoutModel",
          "state": {
            "_view_name": "LayoutView",
            "grid_template_rows": null,
            "right": null,
            "justify_content": null,
            "_view_module": "@jupyter-widgets/base",
            "overflow": null,
            "_model_module_version": "1.2.0",
            "_view_count": null,
            "flex_flow": null,
            "width": null,
            "min_width": null,
            "border": null,
            "align_items": null,
            "bottom": null,
            "_model_module": "@jupyter-widgets/base",
            "top": null,
            "grid_column": null,
            "overflow_y": null,
            "overflow_x": null,
            "grid_auto_flow": null,
            "grid_area": null,
            "grid_template_columns": null,
            "flex": null,
            "_model_name": "LayoutModel",
            "justify_items": null,
            "grid_row": null,
            "max_height": null,
            "align_content": null,
            "visibility": null,
            "align_self": null,
            "height": null,
            "min_height": null,
            "padding": null,
            "grid_auto_rows": null,
            "grid_gap": null,
            "max_width": null,
            "order": null,
            "_view_module_version": "1.2.0",
            "grid_template_areas": null,
            "object_position": null,
            "object_fit": null,
            "grid_auto_columns": null,
            "margin": null,
            "display": null,
            "left": null
          }
        },
        "3808ade1de5c47b280f16407682fd232": {
          "model_module": "@jupyter-widgets/controls",
          "model_name": "FloatProgressModel",
          "state": {
            "_view_name": "ProgressView",
            "style": "IPY_MODEL_b00d112c555b45f18c2322fdc9925386",
            "_dom_classes": [],
            "description": "",
            "_model_name": "FloatProgressModel",
            "bar_style": "info",
            "max": 1,
            "_view_module": "@jupyter-widgets/controls",
            "_model_module_version": "1.5.0",
            "value": 1,
            "_view_count": null,
            "_view_module_version": "1.5.0",
            "orientation": "horizontal",
            "min": 0,
            "description_tooltip": null,
            "_model_module": "@jupyter-widgets/controls",
            "layout": "IPY_MODEL_cf66a30f86d54c62aa4f021f74906e0b"
          }
        },
        "ef47b7df39b542ad81383adb8d6369e7": {
          "model_module": "@jupyter-widgets/controls",
          "model_name": "HTMLModel",
          "state": {
            "_view_name": "HTMLView",
            "style": "IPY_MODEL_07995c3afbd845dfa665f89f69777b95",
            "_dom_classes": [],
            "description": "",
            "_model_name": "HTMLModel",
            "placeholder": "​",
            "_view_module": "@jupyter-widgets/controls",
            "_model_module_version": "1.5.0",
            "value": " 170500096/? [00:20&lt;00:00, 86377375.99it/s]",
            "_view_count": null,
            "_view_module_version": "1.5.0",
            "description_tooltip": null,
            "_model_module": "@jupyter-widgets/controls",
            "layout": "IPY_MODEL_3e8f41acc76748c997ba5f25b28f13e9"
          }
        },
        "b00d112c555b45f18c2322fdc9925386": {
          "model_module": "@jupyter-widgets/controls",
          "model_name": "ProgressStyleModel",
          "state": {
            "_view_name": "StyleView",
            "_model_name": "ProgressStyleModel",
            "description_width": "initial",
            "_view_module": "@jupyter-widgets/base",
            "_model_module_version": "1.5.0",
            "_view_count": null,
            "_view_module_version": "1.2.0",
            "bar_color": null,
            "_model_module": "@jupyter-widgets/controls"
          }
        },
        "cf66a30f86d54c62aa4f021f74906e0b": {
          "model_module": "@jupyter-widgets/base",
          "model_name": "LayoutModel",
          "state": {
            "_view_name": "LayoutView",
            "grid_template_rows": null,
            "right": null,
            "justify_content": null,
            "_view_module": "@jupyter-widgets/base",
            "overflow": null,
            "_model_module_version": "1.2.0",
            "_view_count": null,
            "flex_flow": null,
            "width": null,
            "min_width": null,
            "border": null,
            "align_items": null,
            "bottom": null,
            "_model_module": "@jupyter-widgets/base",
            "top": null,
            "grid_column": null,
            "overflow_y": null,
            "overflow_x": null,
            "grid_auto_flow": null,
            "grid_area": null,
            "grid_template_columns": null,
            "flex": null,
            "_model_name": "LayoutModel",
            "justify_items": null,
            "grid_row": null,
            "max_height": null,
            "align_content": null,
            "visibility": null,
            "align_self": null,
            "height": null,
            "min_height": null,
            "padding": null,
            "grid_auto_rows": null,
            "grid_gap": null,
            "max_width": null,
            "order": null,
            "_view_module_version": "1.2.0",
            "grid_template_areas": null,
            "object_position": null,
            "object_fit": null,
            "grid_auto_columns": null,
            "margin": null,
            "display": null,
            "left": null
          }
        },
        "07995c3afbd845dfa665f89f69777b95": {
          "model_module": "@jupyter-widgets/controls",
          "model_name": "DescriptionStyleModel",
          "state": {
            "_view_name": "StyleView",
            "_model_name": "DescriptionStyleModel",
            "description_width": "",
            "_view_module": "@jupyter-widgets/base",
            "_model_module_version": "1.5.0",
            "_view_count": null,
            "_view_module_version": "1.2.0",
            "_model_module": "@jupyter-widgets/controls"
          }
        },
        "3e8f41acc76748c997ba5f25b28f13e9": {
          "model_module": "@jupyter-widgets/base",
          "model_name": "LayoutModel",
          "state": {
            "_view_name": "LayoutView",
            "grid_template_rows": null,
            "right": null,
            "justify_content": null,
            "_view_module": "@jupyter-widgets/base",
            "overflow": null,
            "_model_module_version": "1.2.0",
            "_view_count": null,
            "flex_flow": null,
            "width": null,
            "min_width": null,
            "border": null,
            "align_items": null,
            "bottom": null,
            "_model_module": "@jupyter-widgets/base",
            "top": null,
            "grid_column": null,
            "overflow_y": null,
            "overflow_x": null,
            "grid_auto_flow": null,
            "grid_area": null,
            "grid_template_columns": null,
            "flex": null,
            "_model_name": "LayoutModel",
            "justify_items": null,
            "grid_row": null,
            "max_height": null,
            "align_content": null,
            "visibility": null,
            "align_self": null,
            "height": null,
            "min_height": null,
            "padding": null,
            "grid_auto_rows": null,
            "grid_gap": null,
            "max_width": null,
            "order": null,
            "_view_module_version": "1.2.0",
            "grid_template_areas": null,
            "object_position": null,
            "object_fit": null,
            "grid_auto_columns": null,
            "margin": null,
            "display": null,
            "left": null
          }
        }
      }
    }
  },
  "cells": [
    {
      "cell_type": "code",
      "metadata": {
        "id": "GauHfdUhEDkL",
        "colab_type": "code",
        "colab": {}
      },
      "source": [
        "import os\n",
        "import time\n",
        "\n",
        "import numpy as np\n",
        "import pandas as pd\n",
        "\n",
        "import torch\n",
        "import torch.nn as nn\n",
        "import torch.nn.functional as F\n",
        "from torch.utils.data import DataLoader\n",
        "\n",
        "from torchvision import datasets\n",
        "from torchvision import transforms\n",
        "\n",
        "import matplotlib.pyplot as plt\n",
        "from PIL import Image\n",
        "\n",
        "\n",
        "if torch.cuda.is_available():\n",
        "    torch.backends.cudnn.deterministic = True"
      ],
      "execution_count": 1,
      "outputs": []
    },
    {
      "cell_type": "code",
      "metadata": {
        "id": "jHbFYumZEYrs",
        "colab_type": "code",
        "colab": {}
      },
      "source": [
        "##########################\n",
        "### SETTINGS\n",
        "##########################\n",
        "\n",
        "# Hyperparameters\n",
        "RANDOM_SEED = 1\n",
        "LEARNING_RATE = 0.001\n",
        "BATCH_SIZE = 128\n",
        "NUM_EPOCHS = 10\n",
        "\n",
        "# Architecture\n",
        "NUM_FEATURES = 32*32\n",
        "NUM_CLASSES = 10\n",
        "\n",
        "# Other\n",
        "DEVICE = \"cuda:0\"\n",
        "GRAYSCALE = False"
      ],
      "execution_count": 2,
      "outputs": []
    },
    {
      "cell_type": "code",
      "metadata": {
        "id": "cdur6EpNFBUm",
        "colab_type": "code",
        "colab": {
          "base_uri": "https://localhost:8080/",
          "height": 155,
          "referenced_widgets": [
            "6bcf578c9b9248498bbf87b9775e3a14",
            "559094f5452a48f9be912fbdf12674d9",
            "3808ade1de5c47b280f16407682fd232",
            "ef47b7df39b542ad81383adb8d6369e7",
            "b00d112c555b45f18c2322fdc9925386",
            "cf66a30f86d54c62aa4f021f74906e0b",
            "07995c3afbd845dfa665f89f69777b95",
            "3e8f41acc76748c997ba5f25b28f13e9"
          ]
        },
        "outputId": "b8691048-100d-4bb2-f623-2d18644b1547"
      },
      "source": [
        "##########################\n",
        "### CIFAR-10 Dataset\n",
        "##########################\n",
        "\n",
        "\n",
        "# Note transforms.ToTensor() scales input images\n",
        "# to 0-1 range\n",
        "train_dataset = datasets.CIFAR10(root='data', \n",
        "                                 train=True, \n",
        "                                 transform=transforms.ToTensor(),\n",
        "                                 download=True)\n",
        "\n",
        "test_dataset = datasets.CIFAR10(root='data', \n",
        "                                train=False, \n",
        "                                transform=transforms.ToTensor())\n",
        "\n",
        "\n",
        "train_loader = DataLoader(dataset=train_dataset, \n",
        "                          batch_size=BATCH_SIZE, \n",
        "                          num_workers=8,\n",
        "                          shuffle=True)\n",
        "\n",
        "test_loader = DataLoader(dataset=test_dataset, \n",
        "                         batch_size=BATCH_SIZE,\n",
        "                         num_workers=8,\n",
        "                         shuffle=False)\n",
        "\n",
        "# Checking the dataset\n",
        "for images, labels in train_loader:  \n",
        "    print('Image batch dimensions:', images.shape)\n",
        "    print('Image label dimensions:', labels.shape)\n",
        "    break\n",
        "\n",
        "# Checking the dataset\n",
        "for images, labels in train_loader:  \n",
        "    print('Image batch dimensions:', images.shape)\n",
        "    print('Image label dimensions:', labels.shape)\n",
        "    break"
      ],
      "execution_count": 3,
      "outputs": [
        {
          "output_type": "stream",
          "text": [
            "Downloading https://www.cs.toronto.edu/~kriz/cifar-10-python.tar.gz to data/cifar-10-python.tar.gz\n"
          ],
          "name": "stdout"
        },
        {
          "output_type": "display_data",
          "data": {
            "application/vnd.jupyter.widget-view+json": {
              "model_id": "6bcf578c9b9248498bbf87b9775e3a14",
              "version_minor": 0,
              "version_major": 2
            },
            "text/plain": [
              "HBox(children=(FloatProgress(value=1.0, bar_style='info', max=1.0), HTML(value='')))"
            ]
          },
          "metadata": {
            "tags": []
          }
        },
        {
          "output_type": "stream",
          "text": [
            "Extracting data/cifar-10-python.tar.gz to data\n",
            "Image batch dimensions: torch.Size([128, 3, 32, 32])\n",
            "Image label dimensions: torch.Size([128])\n",
            "Image batch dimensions: torch.Size([128, 3, 32, 32])\n",
            "Image label dimensions: torch.Size([128])\n"
          ],
          "name": "stdout"
        }
      ]
    },
    {
      "cell_type": "code",
      "metadata": {
        "id": "ghQvuQ38FPyb",
        "colab_type": "code",
        "colab": {
          "base_uri": "https://localhost:8080/",
          "height": 52
        },
        "outputId": "cd59e50a-50b6-411e-cd6d-bc2b5f2418d5"
      },
      "source": [
        "device = torch.device(DEVICE)\n",
        "torch.manual_seed(0)\n",
        "\n",
        "for epoch in range(2):\n",
        "\n",
        "    for batch_idx, (x, y) in enumerate(train_loader):\n",
        "        \n",
        "        print('Epoch:', epoch+1, end='')\n",
        "        print(' | Batch index:', batch_idx, end='')\n",
        "        print(' | Batch size:', y.size()[0])\n",
        "        \n",
        "        x = x.to(device)\n",
        "        y = y.to(device)\n",
        "        break"
      ],
      "execution_count": 4,
      "outputs": [
        {
          "output_type": "stream",
          "text": [
            "Epoch: 1 | Batch index: 0 | Batch size: 128\n",
            "Epoch: 2 | Batch index: 0 | Batch size: 128\n"
          ],
          "name": "stdout"
        }
      ]
    },
    {
      "cell_type": "code",
      "metadata": {
        "id": "0k2Vz6L_FYvU",
        "colab_type": "code",
        "colab": {}
      },
      "source": [
        "##########################\n",
        "### MODEL\n",
        "##########################\n",
        "\n",
        "\n",
        "class LeNet5(nn.Module):\n",
        "\n",
        "    def __init__(self, num_classes, grayscale=False):\n",
        "        super(LeNet5, self).__init__()\n",
        "        \n",
        "        self.grayscale = grayscale\n",
        "        self.num_classes = num_classes\n",
        "\n",
        "        if self.grayscale:\n",
        "            in_channels = 1\n",
        "        else:\n",
        "            in_channels = 3\n",
        "\n",
        "        self.features = nn.Sequential(\n",
        "            \n",
        "            nn.Conv2d(in_channels, 6*in_channels, kernel_size=5),\n",
        "            nn.Tanh(),\n",
        "            nn.MaxPool2d(kernel_size=2),\n",
        "            nn.Conv2d(6*in_channels, 16*in_channels, kernel_size=5),\n",
        "            nn.Tanh(),\n",
        "            nn.MaxPool2d(kernel_size=2)\n",
        "        )\n",
        "\n",
        "        self.classifier = nn.Sequential(\n",
        "            nn.Linear(16*5*5*in_channels, 120*in_channels),\n",
        "            nn.Tanh(),\n",
        "            nn.Linear(120*in_channels, 84*in_channels),\n",
        "            nn.Tanh(),\n",
        "            nn.Linear(84*in_channels, num_classes),\n",
        "        )\n",
        "    def forward(self, x):\n",
        "        x = self.features(x)\n",
        "        x = torch.flatten(x, 1)\n",
        "        logits = self.classifier(x)\n",
        "        probas = F.softmax(logits, dim=1)\n",
        "        return logits, probas\n"
      ],
      "execution_count": 6,
      "outputs": []
    },
    {
      "cell_type": "code",
      "metadata": {
        "id": "_OSh8tMVFlql",
        "colab_type": "code",
        "colab": {}
      },
      "source": [
        "torch.manual_seed(RANDOM_SEED)\n",
        "\n",
        "model = LeNet5(NUM_CLASSES, GRAYSCALE)\n",
        "model.to(DEVICE)\n",
        "\n",
        "optimizer = torch.optim.Adam(model.parameters(), lr=LEARNING_RATE)"
      ],
      "execution_count": 7,
      "outputs": []
    },
    {
      "cell_type": "code",
      "metadata": {
        "id": "DQQ4AvfIF4VJ",
        "colab_type": "code",
        "colab": {
          "base_uri": "https://localhost:8080/",
          "height": 1000
        },
        "outputId": "64410cd9-3049-45e1-883c-cc094143d02a"
      },
      "source": [
        "def compute_accuracy(model, data_loader, device):\n",
        "    correct_pred, num_examples = 0, 0\n",
        "    for i, (features, targets) in enumerate(data_loader):\n",
        "            \n",
        "        features = features.to(device)\n",
        "        targets = targets.to(device)\n",
        "\n",
        "        logits, probas = model(features)\n",
        "        _, predicted_labels = torch.max(probas, 1)\n",
        "        num_examples += targets.size(0)\n",
        "        correct_pred += (predicted_labels == targets).sum()\n",
        "    return correct_pred.float()/num_examples * 100\n",
        "    \n",
        "\n",
        "start_time = time.time()\n",
        "for epoch in range(NUM_EPOCHS):\n",
        "    \n",
        "    model.train()\n",
        "    for batch_idx, (features, targets) in enumerate(train_loader):\n",
        "        \n",
        "        features = features.to(DEVICE)\n",
        "        targets = targets.to(DEVICE)\n",
        "            \n",
        "        ### FORWARD AND BACK PROP\n",
        "        logits, probas = model(features)\n",
        "        cost = F.cross_entropy(logits, targets)\n",
        "        optimizer.zero_grad()\n",
        "        \n",
        "        cost.backward()\n",
        "        \n",
        "        ### UPDATE MODEL PARAMETERS\n",
        "        optimizer.step()\n",
        "        \n",
        "        ### LOGGING\n",
        "        if not batch_idx % 50:\n",
        "            print ('Epoch: %03d/%03d | Batch %04d/%04d | Cost: %.4f' \n",
        "                   %(epoch+1, NUM_EPOCHS, batch_idx, \n",
        "                     len(train_loader), cost))\n",
        "\n",
        "        \n",
        "\n",
        "    model.eval()\n",
        "    with torch.set_grad_enabled(False): # save memory during inference\n",
        "        print('Epoch: %03d/%03d | Train: %.3f%%' % (\n",
        "              epoch+1, NUM_EPOCHS, \n",
        "              compute_accuracy(model, train_loader, device=DEVICE)))\n",
        "        \n",
        "    print('Time elapsed: %.2f min' % ((time.time() - start_time)/60))\n",
        "    \n",
        "print('Total Training Time: %.2f min' % ((time.time() - start_time)/60))"
      ],
      "execution_count": 8,
      "outputs": [
        {
          "output_type": "stream",
          "text": [
            "Epoch: 001/010 | Batch 0000/0391 | Cost: 2.3068\n",
            "Epoch: 001/010 | Batch 0050/0391 | Cost: 1.8192\n",
            "Epoch: 001/010 | Batch 0100/0391 | Cost: 1.6464\n",
            "Epoch: 001/010 | Batch 0150/0391 | Cost: 1.5759\n",
            "Epoch: 001/010 | Batch 0200/0391 | Cost: 1.4035\n",
            "Epoch: 001/010 | Batch 0250/0391 | Cost: 1.3122\n",
            "Epoch: 001/010 | Batch 0300/0391 | Cost: 1.3315\n",
            "Epoch: 001/010 | Batch 0350/0391 | Cost: 1.2794\n",
            "Epoch: 001/010 | Train: 54.338%\n",
            "Time elapsed: 0.33 min\n",
            "Epoch: 002/010 | Batch 0000/0391 | Cost: 1.4127\n",
            "Epoch: 002/010 | Batch 0050/0391 | Cost: 1.3017\n",
            "Epoch: 002/010 | Batch 0100/0391 | Cost: 1.2581\n",
            "Epoch: 002/010 | Batch 0150/0391 | Cost: 1.3157\n",
            "Epoch: 002/010 | Batch 0200/0391 | Cost: 1.2913\n",
            "Epoch: 002/010 | Batch 0250/0391 | Cost: 1.3540\n",
            "Epoch: 002/010 | Batch 0300/0391 | Cost: 1.2012\n",
            "Epoch: 002/010 | Batch 0350/0391 | Cost: 1.1463\n",
            "Epoch: 002/010 | Train: 60.474%\n",
            "Time elapsed: 0.66 min\n",
            "Epoch: 003/010 | Batch 0000/0391 | Cost: 1.1278\n",
            "Epoch: 003/010 | Batch 0050/0391 | Cost: 1.1926\n",
            "Epoch: 003/010 | Batch 0100/0391 | Cost: 1.3081\n",
            "Epoch: 003/010 | Batch 0150/0391 | Cost: 1.0251\n",
            "Epoch: 003/010 | Batch 0200/0391 | Cost: 1.0234\n",
            "Epoch: 003/010 | Batch 0250/0391 | Cost: 0.7918\n",
            "Epoch: 003/010 | Batch 0300/0391 | Cost: 1.0746\n",
            "Epoch: 003/010 | Batch 0350/0391 | Cost: 1.1034\n",
            "Epoch: 003/010 | Train: 64.086%\n",
            "Time elapsed: 0.98 min\n",
            "Epoch: 004/010 | Batch 0000/0391 | Cost: 1.1478\n",
            "Epoch: 004/010 | Batch 0050/0391 | Cost: 1.0776\n",
            "Epoch: 004/010 | Batch 0100/0391 | Cost: 1.0475\n",
            "Epoch: 004/010 | Batch 0150/0391 | Cost: 0.9786\n",
            "Epoch: 004/010 | Batch 0200/0391 | Cost: 0.8557\n",
            "Epoch: 004/010 | Batch 0250/0391 | Cost: 1.1332\n",
            "Epoch: 004/010 | Batch 0300/0391 | Cost: 0.8365\n",
            "Epoch: 004/010 | Batch 0350/0391 | Cost: 1.1794\n",
            "Epoch: 004/010 | Train: 66.804%\n",
            "Time elapsed: 1.31 min\n",
            "Epoch: 005/010 | Batch 0000/0391 | Cost: 1.1139\n",
            "Epoch: 005/010 | Batch 0050/0391 | Cost: 0.8466\n",
            "Epoch: 005/010 | Batch 0100/0391 | Cost: 0.8994\n",
            "Epoch: 005/010 | Batch 0150/0391 | Cost: 0.9105\n",
            "Epoch: 005/010 | Batch 0200/0391 | Cost: 0.9379\n",
            "Epoch: 005/010 | Batch 0250/0391 | Cost: 1.0416\n",
            "Epoch: 005/010 | Batch 0300/0391 | Cost: 0.9539\n",
            "Epoch: 005/010 | Batch 0350/0391 | Cost: 0.9151\n",
            "Epoch: 005/010 | Train: 71.448%\n",
            "Time elapsed: 1.62 min\n",
            "Epoch: 006/010 | Batch 0000/0391 | Cost: 0.7007\n",
            "Epoch: 006/010 | Batch 0050/0391 | Cost: 0.6833\n",
            "Epoch: 006/010 | Batch 0100/0391 | Cost: 0.6804\n",
            "Epoch: 006/010 | Batch 0150/0391 | Cost: 0.8332\n",
            "Epoch: 006/010 | Batch 0200/0391 | Cost: 0.7890\n",
            "Epoch: 006/010 | Batch 0250/0391 | Cost: 0.9838\n",
            "Epoch: 006/010 | Batch 0300/0391 | Cost: 0.7640\n",
            "Epoch: 006/010 | Batch 0350/0391 | Cost: 0.9363\n",
            "Epoch: 006/010 | Train: 74.600%\n",
            "Time elapsed: 1.94 min\n",
            "Epoch: 007/010 | Batch 0000/0391 | Cost: 0.8524\n",
            "Epoch: 007/010 | Batch 0050/0391 | Cost: 0.8399\n",
            "Epoch: 007/010 | Batch 0100/0391 | Cost: 0.6746\n",
            "Epoch: 007/010 | Batch 0150/0391 | Cost: 0.6236\n",
            "Epoch: 007/010 | Batch 0200/0391 | Cost: 0.6483\n",
            "Epoch: 007/010 | Batch 0250/0391 | Cost: 0.6264\n",
            "Epoch: 007/010 | Batch 0300/0391 | Cost: 0.7389\n",
            "Epoch: 007/010 | Batch 0350/0391 | Cost: 0.7650\n",
            "Epoch: 007/010 | Train: 77.990%\n",
            "Time elapsed: 2.26 min\n",
            "Epoch: 008/010 | Batch 0000/0391 | Cost: 0.5031\n",
            "Epoch: 008/010 | Batch 0050/0391 | Cost: 0.6005\n",
            "Epoch: 008/010 | Batch 0100/0391 | Cost: 0.5995\n",
            "Epoch: 008/010 | Batch 0150/0391 | Cost: 0.6738\n",
            "Epoch: 008/010 | Batch 0200/0391 | Cost: 0.5726\n",
            "Epoch: 008/010 | Batch 0250/0391 | Cost: 0.6274\n",
            "Epoch: 008/010 | Batch 0300/0391 | Cost: 0.6268\n",
            "Epoch: 008/010 | Batch 0350/0391 | Cost: 0.8053\n",
            "Epoch: 008/010 | Train: 82.614%\n",
            "Time elapsed: 2.57 min\n",
            "Epoch: 009/010 | Batch 0000/0391 | Cost: 0.4887\n",
            "Epoch: 009/010 | Batch 0050/0391 | Cost: 0.4772\n",
            "Epoch: 009/010 | Batch 0100/0391 | Cost: 0.6956\n",
            "Epoch: 009/010 | Batch 0150/0391 | Cost: 0.5357\n",
            "Epoch: 009/010 | Batch 0200/0391 | Cost: 0.6308\n",
            "Epoch: 009/010 | Batch 0250/0391 | Cost: 0.7114\n",
            "Epoch: 009/010 | Batch 0300/0391 | Cost: 0.6101\n",
            "Epoch: 009/010 | Batch 0350/0391 | Cost: 0.5990\n",
            "Epoch: 009/010 | Train: 85.148%\n",
            "Time elapsed: 2.88 min\n",
            "Epoch: 010/010 | Batch 0000/0391 | Cost: 0.4627\n",
            "Epoch: 010/010 | Batch 0050/0391 | Cost: 0.4101\n",
            "Epoch: 010/010 | Batch 0100/0391 | Cost: 0.4772\n",
            "Epoch: 010/010 | Batch 0150/0391 | Cost: 0.4310\n",
            "Epoch: 010/010 | Batch 0200/0391 | Cost: 0.5610\n",
            "Epoch: 010/010 | Batch 0250/0391 | Cost: 0.4620\n",
            "Epoch: 010/010 | Batch 0300/0391 | Cost: 0.5115\n",
            "Epoch: 010/010 | Batch 0350/0391 | Cost: 0.4940\n",
            "Epoch: 010/010 | Train: 88.412%\n",
            "Time elapsed: 3.20 min\n",
            "Total Training Time: 3.20 min\n"
          ],
          "name": "stdout"
        }
      ]
    },
    {
      "cell_type": "code",
      "metadata": {
        "id": "gjb46qY1GD3W",
        "colab_type": "code",
        "colab": {
          "base_uri": "https://localhost:8080/",
          "height": 34
        },
        "outputId": "724c6191-d54a-4673-cbf5-33c135b4a420"
      },
      "source": [
        "with torch.set_grad_enabled(False): # save memory during inference\n",
        "    print('Test accuracy: %.2f%%' % (compute_accuracy(model, test_loader, device=DEVICE)))"
      ],
      "execution_count": 9,
      "outputs": [
        {
          "output_type": "stream",
          "text": [
            "Test accuracy: 67.37%\n"
          ],
          "name": "stdout"
        }
      ]
    },
    {
      "cell_type": "code",
      "metadata": {
        "id": "5acfPf7AGOXM",
        "colab_type": "code",
        "colab": {}
      },
      "source": [
        ""
      ],
      "execution_count": null,
      "outputs": []
    }
  ]
}