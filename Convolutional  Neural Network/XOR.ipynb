{
  "nbformat": 4,
  "nbformat_minor": 0,
  "metadata": {
    "colab": {
      "name": "XOR.ipynb",
      "provenance": []
    },
    "kernelspec": {
      "name": "python3",
      "display_name": "Python 3"
    },
    "accelerator": "GPU"
  },
  "cells": [
    {
      "cell_type": "markdown",
      "metadata": {
        "id": "oLFvsSAma_gL",
        "colab_type": "text"
      },
      "source": [
        "### Pytorch"
      ]
    },
    {
      "cell_type": "code",
      "metadata": {
        "id": "V62Ep9pTZku5",
        "colab_type": "code",
        "colab": {
          "base_uri": "https://localhost:8080/",
          "height": 282
        },
        "outputId": "e9641fc5-63eb-4c64-d24b-4d8c8aaff16f"
      },
      "source": [
        "import numpy as np\n",
        "\n",
        "%matplotlib inline\n",
        "import matplotlib.pyplot as plt\n",
        "\n",
        "# input of the MLP\n",
        "X = np.array([[1,1], [1,-1], [-1,-1], [-1,1]])\n",
        "# output of the MLP\n",
        "y = np.array([[0], [1], [0], [1]])\n",
        "\n",
        "# plot the training data\n",
        "fig, ax = plt.subplots()\n",
        "for i in range(y.shape[0]):\n",
        "  if y[i][0] == 0:\n",
        "    marker = 'ro'\n",
        "  else:\n",
        "    marker = 'bo'\n",
        "  ax.plot(X[i][0], X[i][1], marker)\n",
        "ax.axhline(y=0, color='k')\n",
        "ax.axvline(x=0, color='k')"
      ],
      "execution_count": 1,
      "outputs": [
        {
          "output_type": "execute_result",
          "data": {
            "text/plain": [
              "<matplotlib.lines.Line2D at 0x7f180a1ae710>"
            ]
          },
          "metadata": {
            "tags": []
          },
          "execution_count": 1
        },
        {
          "output_type": "display_data",
          "data": {
            "image/png": "[encoded data removed]",
            "text/plain": [
              "<Figure size 432x288 with 1 Axes>"
            ]
          },
          "metadata": {
            "tags": [],
            "needs_background": "light"
          }
        }
      ]
    },
    {
      "cell_type": "code",
      "metadata": {
        "id": "OhbW7TjHbpz5",
        "colab_type": "code",
        "colab": {
          "base_uri": "https://localhost:8080/",
          "height": 463
        },
        "outputId": "c3991660-5610-461a-f1ed-fc582b98ed4c"
      },
      "source": [
        "import tensorflow as tf \n",
        "# XOR dataset \n",
        "XOR_X = [[0, 0], [0, 1], [1, 0], [1, 1]] \n",
        "XOR_Y = [[0], [1], [1], [0]] \n",
        " \n",
        "num_input = 2 \n",
        "num_classes = 1 \n",
        " \n",
        "# Define model I/O (Placeholders are used to send/get information from graph) \n",
        "x_ = tf.placeholder(\"float\", shape=[None, num_input], name='X') \n",
        "y_ = tf.placeholder(\"float\", shape=[None, num_classes], name='Y') \n",
        " \n",
        "# Model structure \n",
        "H1 = tf.layers.dense(inputs=x_, units=4, activation=tf.nn.sigmoid) \n",
        "H2 = tf.layers.dense(inputs=H1, units=8, activation=tf.nn.sigmoid) \n",
        "H_OUT = tf.layers.dense(inputs=H2, units=num_classes, activation=tf.nn.sigmoid) \n",
        " \n",
        "# Define cost function \n",
        "with tf.name_scope(\"cost\") as scope: \n",
        "   cost = tf.losses.log_loss( labels=y_, predictions=H_OUT) \n",
        "   # Add loss to tensorboard \n",
        "   tf.summary.scalar(\"log_loss\", cost) \n",
        " \n",
        "# Define training ops \n",
        "with tf.name_scope(\"train\") as scope: \n",
        "   train_step = tf.train.GradientDescentOptimizer(0.1).minimize(cost) \n",
        " \n",
        "merged_summary_op = tf.summary.merge_all() \n",
        " \n",
        "# Initialize variables(weights) and session \n",
        "init = tf.global_variables_initializer() \n",
        "sess = tf.Session() \n",
        "# Configure summary to output at given directory \n",
        "writer = tf.summary.FileWriter(\"./logs/xor_logs\", sess.graph) \n",
        "sess.run(init) \n",
        " \n",
        "# Train loop \n",
        "for step in range(10000): \n",
        "   # Run train_step and merge_summary_op \n",
        "   _, summary = sess.run([train_step, merged_summary_op], feed_dict={x_: XOR_X, y_: XOR_Y}) \n",
        "   if step % 1000 == 0:        \n",
        "       print(\"Step/Epoch: {}, Loss: {}\".format(step, sess.run(cost, feed_dict={x_: XOR_X, y_: XOR_Y}))) \n",
        "       # Write to tensorboard summary \n",
        "       writer.add_summary(summary, step)"
      ],
      "execution_count": 2,
      "outputs": [
        {
          "output_type": "stream",
          "text": [
            "/usr/local/lib/python3.6/dist-packages/tensorflow/python/framework/dtypes.py:469: FutureWarning: Passing (type, 1) or '1type' as a synonym of type is deprecated; in a future version of numpy, it will be understood as (type, (1,)) / '(1,)type'.\n",
            "  _np_qint8 = np.dtype([(\"qint8\", np.int8, 1)])\n",
            "/usr/local/lib/python3.6/dist-packages/tensorflow/python/framework/dtypes.py:470: FutureWarning: Passing (type, 1) or '1type' as a synonym of type is deprecated; in a future version of numpy, it will be understood as (type, (1,)) / '(1,)type'.\n",
            "  _np_quint8 = np.dtype([(\"quint8\", np.uint8, 1)])\n",
            "/usr/local/lib/python3.6/dist-packages/tensorflow/python/framework/dtypes.py:471: FutureWarning: Passing (type, 1) or '1type' as a synonym of type is deprecated; in a future version of numpy, it will be understood as (type, (1,)) / '(1,)type'.\n",
            "  _np_qint16 = np.dtype([(\"qint16\", np.int16, 1)])\n",
            "/usr/local/lib/python3.6/dist-packages/tensorflow/python/framework/dtypes.py:472: FutureWarning: Passing (type, 1) or '1type' as a synonym of type is deprecated; in a future version of numpy, it will be understood as (type, (1,)) / '(1,)type'.\n",
            "  _np_quint16 = np.dtype([(\"quint16\", np.uint16, 1)])\n",
            "/usr/local/lib/python3.6/dist-packages/tensorflow/python/framework/dtypes.py:473: FutureWarning: Passing (type, 1) or '1type' as a synonym of type is deprecated; in a future version of numpy, it will be understood as (type, (1,)) / '(1,)type'.\n",
            "  _np_qint32 = np.dtype([(\"qint32\", np.int32, 1)])\n",
            "/usr/local/lib/python3.6/dist-packages/tensorflow/python/framework/dtypes.py:476: FutureWarning: Passing (type, 1) or '1type' as a synonym of type is deprecated; in a future version of numpy, it will be understood as (type, (1,)) / '(1,)type'.\n",
            "  np_resource = np.dtype([(\"resource\", np.ubyte, 1)])\n",
            "/usr/lib/python3.6/importlib/_bootstrap.py:219: RuntimeWarning: compiletime version 3.5 of module 'tensorflow.python.framework.fast_tensor_util' does not match runtime version 3.6\n",
            "  return f(*args, **kwds)\n"
          ],
          "name": "stderr"
        },
        {
          "output_type": "stream",
          "text": [
            "Step/Epoch: 0, Loss: 0.7050517201423645\n",
            "Step/Epoch: 1000, Loss: 0.6931444406509399\n",
            "Step/Epoch: 2000, Loss: 0.6930137872695923\n",
            "Step/Epoch: 3000, Loss: 0.6928640604019165\n",
            "Step/Epoch: 4000, Loss: 0.6926282644271851\n",
            "Step/Epoch: 5000, Loss: 0.6921644806861877\n",
            "Step/Epoch: 6000, Loss: 0.6909925937652588\n",
            "Step/Epoch: 7000, Loss: 0.6866075396537781\n",
            "Step/Epoch: 8000, Loss: 0.6559198498725891\n",
            "Step/Epoch: 9000, Loss: 0.31516700983047485\n"
          ],
          "name": "stdout"
        }
      ]
    },
    {
      "cell_type": "code",
      "metadata": {
        "id": "rcl8UeyncV7m",
        "colab_type": "code",
        "colab": {}
      },
      "source": [
        ""
      ],
      "execution_count": null,
      "outputs": []
    }
  ]
}