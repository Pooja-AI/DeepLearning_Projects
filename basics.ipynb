{
  "nbformat": 4,
  "nbformat_minor": 0,
  "metadata": {
    "colab": {
      "name": "basics.ipynb",
      "provenance": [],
      "collapsed_sections": []
    },
    "kernelspec": {
      "name": "python3",
      "display_name": "Python 3"
    },
    "accelerator": "GPU"
  },
  "cells": [
    {
      "cell_type": "code",
      "metadata": {
        "id": "nujiW0UJljKs",
        "colab_type": "code",
        "colab": {}
      },
      "source": [
        "import numpy as np\n",
        "import torch\n",
        "import tensorflow as tf"
      ],
      "execution_count": 1,
      "outputs": []
    },
    {
      "cell_type": "code",
      "metadata": {
        "id": "3hjEMCGVlrsq",
        "colab_type": "code",
        "colab": {}
      },
      "source": [
        "##A row vector x containing the first 12 integers starting with 0\n",
        "x = np.arange(12)\n",
        "px=torch.arange(12)\n",
        "tx=tf.range(12)"
      ],
      "execution_count": 2,
      "outputs": []
    },
    {
      "cell_type": "code",
      "metadata": {
        "id": "dnxaUtmwnGQQ",
        "colab_type": "code",
        "colab": {
          "base_uri": "https://localhost:8080/",
          "height": 68
        },
        "outputId": "c96b0418-267c-4256-d846-02f9da7be7fa"
      },
      "source": [
        "print(x.shape)\n",
        "print(px.shape)\n",
        "print(tx.shape)"
      ],
      "execution_count": 3,
      "outputs": [
        {
          "output_type": "stream",
          "text": [
            "(12,)\n",
            "torch.Size([12])\n",
            "(12,)\n"
          ],
          "name": "stdout"
        }
      ]
    },
    {
      "cell_type": "code",
      "metadata": {
        "id": "bUc7N26Yr2Br",
        "colab_type": "code",
        "colab": {
          "base_uri": "https://localhost:8080/",
          "height": 68
        },
        "outputId": "67d8a4d3-9a86-4b17-c1f0-231186651263"
      },
      "source": [
        "#size\n",
        "print(x.size)\n",
        "print(px.numel)\n",
        "print(tf.size(x))\n"
      ],
      "execution_count": 4,
      "outputs": [
        {
          "output_type": "stream",
          "text": [
            "12\n",
            "<built-in method numel of Tensor object at 0x7f70b29ed990>\n",
            "tf.Tensor(12, shape=(), dtype=int32)\n"
          ],
          "name": "stdout"
        }
      ]
    },
    {
      "cell_type": "code",
      "metadata": {
        "id": "36_kPFQyL26L",
        "colab_type": "code",
        "colab": {
          "base_uri": "https://localhost:8080/",
          "height": 187
        },
        "outputId": "b5543397-44b4-4405-9de6-83afd5cdc435"
      },
      "source": [
        "#reshape\n",
        "print(x.reshape(3,4))\n",
        "print(px.reshape(3,4))\n",
        "print(tf.reshape(x,(3,4)))"
      ],
      "execution_count": 5,
      "outputs": [
        {
          "output_type": "stream",
          "text": [
            "[[ 0  1  2  3]\n",
            " [ 4  5  6  7]\n",
            " [ 8  9 10 11]]\n",
            "tensor([[ 0,  1,  2,  3],\n",
            "        [ 4,  5,  6,  7],\n",
            "        [ 8,  9, 10, 11]])\n",
            "tf.Tensor(\n",
            "[[ 0  1  2  3]\n",
            " [ 4  5  6  7]\n",
            " [ 8  9 10 11]], shape=(3, 4), dtype=int64)\n"
          ],
          "name": "stdout"
        }
      ]
    },
    {
      "cell_type": "markdown",
      "metadata": {
        "id": "za4x6g1nMrl0",
        "colab_type": "text"
      },
      "source": [
        "we will want our matrices initialized either with zeros, ones, some other constants, or numbers randomly sampled from a specific distribution. We can create a tensor representing a tensor with all elements set to 0 and a shape of (2, 3, 4) as follows"
      ]
    },
    {
      "cell_type": "code",
      "metadata": {
        "id": "rYpTScSZMa3Y",
        "colab_type": "code",
        "colab": {
          "base_uri": "https://localhost:8080/",
          "height": 255
        },
        "outputId": "4df77a22-876a-42a1-b488-07d79cd34a10"
      },
      "source": [
        "print(np.zeros((2,3,4)))\n",
        "print(np.ones((2,3,4)))"
      ],
      "execution_count": 6,
      "outputs": [
        {
          "output_type": "stream",
          "text": [
            "[[[0. 0. 0. 0.]\n",
            "  [0. 0. 0. 0.]\n",
            "  [0. 0. 0. 0.]]\n",
            "\n",
            " [[0. 0. 0. 0.]\n",
            "  [0. 0. 0. 0.]\n",
            "  [0. 0. 0. 0.]]]\n",
            "[[[1. 1. 1. 1.]\n",
            "  [1. 1. 1. 1.]\n",
            "  [1. 1. 1. 1.]]\n",
            "\n",
            " [[1. 1. 1. 1.]\n",
            "  [1. 1. 1. 1.]\n",
            "  [1. 1. 1. 1.]]]\n"
          ],
          "name": "stdout"
        }
      ]
    },
    {
      "cell_type": "code",
      "metadata": {
        "id": "YFry1O_7M52j",
        "colab_type": "code",
        "colab": {
          "base_uri": "https://localhost:8080/",
          "height": 255
        },
        "outputId": "097b37d4-ccc7-4ab8-bf2e-7685b3ffafb0"
      },
      "source": [
        "print(torch.zeros((2,3,4)))\n",
        "print(torch.ones((2,3,4)))"
      ],
      "execution_count": 7,
      "outputs": [
        {
          "output_type": "stream",
          "text": [
            "tensor([[[0., 0., 0., 0.],\n",
            "         [0., 0., 0., 0.],\n",
            "         [0., 0., 0., 0.]],\n",
            "\n",
            "        [[0., 0., 0., 0.],\n",
            "         [0., 0., 0., 0.],\n",
            "         [0., 0., 0., 0.]]])\n",
            "tensor([[[1., 1., 1., 1.],\n",
            "         [1., 1., 1., 1.],\n",
            "         [1., 1., 1., 1.]],\n",
            "\n",
            "        [[1., 1., 1., 1.],\n",
            "         [1., 1., 1., 1.],\n",
            "         [1., 1., 1., 1.]]])\n"
          ],
          "name": "stdout"
        }
      ]
    },
    {
      "cell_type": "code",
      "metadata": {
        "id": "MnPKl75_M96i",
        "colab_type": "code",
        "colab": {
          "base_uri": "https://localhost:8080/",
          "height": 289
        },
        "outputId": "700b603b-4d2d-4ccf-a14e-3ccc8987ba94"
      },
      "source": [
        "print(tf.zeros((2,3,4)))\n",
        "print(tf.ones((2,3,4)))"
      ],
      "execution_count": 8,
      "outputs": [
        {
          "output_type": "stream",
          "text": [
            "tf.Tensor(\n",
            "[[[0. 0. 0. 0.]\n",
            "  [0. 0. 0. 0.]\n",
            "  [0. 0. 0. 0.]]\n",
            "\n",
            " [[0. 0. 0. 0.]\n",
            "  [0. 0. 0. 0.]\n",
            "  [0. 0. 0. 0.]]], shape=(2, 3, 4), dtype=float32)\n",
            "tf.Tensor(\n",
            "[[[1. 1. 1. 1.]\n",
            "  [1. 1. 1. 1.]\n",
            "  [1. 1. 1. 1.]]\n",
            "\n",
            " [[1. 1. 1. 1.]\n",
            "  [1. 1. 1. 1.]\n",
            "  [1. 1. 1. 1.]]], shape=(2, 3, 4), dtype=float32)\n"
          ],
          "name": "stdout"
        }
      ]
    },
    {
      "cell_type": "markdown",
      "metadata": {
        "id": "f1sUJEAkNkmP",
        "colab_type": "text"
      },
      "source": [
        "we want to randomly sample the values for each element in a tensor from some probability distribution\n",
        "For example, when we construct arrays to serve as parameters in a neural network, we will typically initialize their values randomly\n",
        "Each of its elements is randomly sampled from a standard Gaussian (normal) distribution with a mean of 0 and a standard deviation of 1."
      ]
    },
    {
      "cell_type": "code",
      "metadata": {
        "id": "D_F37wAyNBnj",
        "colab_type": "code",
        "colab": {
          "base_uri": "https://localhost:8080/",
          "height": 68
        },
        "outputId": "a3dc2244-514f-419c-c3bc-9514b16d2b84"
      },
      "source": [
        "print(np.random.normal(0,1, size=(3,4)))"
      ],
      "execution_count": 9,
      "outputs": [
        {
          "output_type": "stream",
          "text": [
            "[[-1.10308616 -1.64739034 -0.13406403  0.92388041]\n",
            " [ 0.51907089  2.01124759 -0.47938068 -1.72094364]\n",
            " [ 0.5348224   1.92025086 -0.2066009  -2.99242721]]\n"
          ],
          "name": "stdout"
        }
      ]
    },
    {
      "cell_type": "code",
      "metadata": {
        "id": "52o5BacbOAP_",
        "colab_type": "code",
        "colab": {
          "base_uri": "https://localhost:8080/",
          "height": 68
        },
        "outputId": "c5217af1-72cb-48bc-d999-6632988e7bb1"
      },
      "source": [
        "print(torch.randn(3,4))"
      ],
      "execution_count": 10,
      "outputs": [
        {
          "output_type": "stream",
          "text": [
            "tensor([[-0.2696,  1.0795, -0.4888, -0.6548],\n",
            "        [-1.2332,  0.9966,  1.4060,  0.3325],\n",
            "        [-0.7305, -1.6041,  1.0327,  0.1910]])\n"
          ],
          "name": "stdout"
        }
      ]
    },
    {
      "cell_type": "code",
      "metadata": {
        "id": "dhjBgE7dOFAa",
        "colab_type": "code",
        "colab": {
          "base_uri": "https://localhost:8080/",
          "height": 85
        },
        "outputId": "58acdb30-5518-48eb-e505-afb6ca447048"
      },
      "source": [
        "print(tf.random.normal(shape=[3,4]))"
      ],
      "execution_count": 11,
      "outputs": [
        {
          "output_type": "stream",
          "text": [
            "tf.Tensor(\n",
            "[[ 0.83985883  3.017741    0.43423808 -2.186847  ]\n",
            " [-0.296071   -0.40643916 -0.72704726  1.3467112 ]\n",
            " [ 1.3694528   0.21670945 -0.8643489  -0.27682877]], shape=(3, 4), dtype=float32)\n"
          ],
          "name": "stdout"
        }
      ]
    },
    {
      "cell_type": "code",
      "metadata": {
        "id": "A9tPwU0sOISu",
        "colab_type": "code",
        "colab": {
          "base_uri": "https://localhost:8080/",
          "height": 68
        },
        "outputId": "179f15c2-56b8-46af-fff7-134d746bad96"
      },
      "source": [
        "np.array([[2,3,4],[3,4,5],[4,5,6]])"
      ],
      "execution_count": 12,
      "outputs": [
        {
          "output_type": "execute_result",
          "data": {
            "text/plain": [
              "array([[2, 3, 4],\n",
              "       [3, 4, 5],\n",
              "       [4, 5, 6]])"
            ]
          },
          "metadata": {
            "tags": []
          },
          "execution_count": 12
        }
      ]
    },
    {
      "cell_type": "code",
      "metadata": {
        "id": "ocSeuMWwOdmM",
        "colab_type": "code",
        "colab": {
          "base_uri": "https://localhost:8080/",
          "height": 68
        },
        "outputId": "6183e58f-157f-4d34-8afb-86cb347830b8"
      },
      "source": [
        "torch.tensor([[2,3,4],[3,4,5],[4,5,6]])"
      ],
      "execution_count": 13,
      "outputs": [
        {
          "output_type": "execute_result",
          "data": {
            "text/plain": [
              "tensor([[2, 3, 4],\n",
              "        [3, 4, 5],\n",
              "        [4, 5, 6]])"
            ]
          },
          "metadata": {
            "tags": []
          },
          "execution_count": 13
        }
      ]
    },
    {
      "cell_type": "code",
      "metadata": {
        "id": "XOLun8uTPExv",
        "colab_type": "code",
        "colab": {
          "base_uri": "https://localhost:8080/",
          "height": 85
        },
        "outputId": "fbcd6a2f-6991-4d6e-8630-72228d847327"
      },
      "source": [
        "tf.constant([[2,3,4],[3,4,5],[4,5,6]])"
      ],
      "execution_count": 14,
      "outputs": [
        {
          "output_type": "execute_result",
          "data": {
            "text/plain": [
              "<tf.Tensor: shape=(3, 3), dtype=int32, numpy=\n",
              "array([[2, 3, 4],\n",
              "       [3, 4, 5],\n",
              "       [4, 5, 6]], dtype=int32)>"
            ]
          },
          "metadata": {
            "tags": []
          },
          "execution_count": 14
        }
      ]
    },
    {
      "cell_type": "markdown",
      "metadata": {
        "id": "eTcceKCJPN25",
        "colab_type": "text"
      },
      "source": [
        "# Operations"
      ]
    },
    {
      "cell_type": "code",
      "metadata": {
        "id": "41VQiS0nPJe9",
        "colab_type": "code",
        "colab": {}
      },
      "source": [
        "nx = np.array([[1,2,3],[4,5,6]])\n",
        "ny = np.array([[6,7,8],[9,8,5]])"
      ],
      "execution_count": 15,
      "outputs": []
    },
    {
      "cell_type": "code",
      "metadata": {
        "id": "fDaUNaZrQ687",
        "colab_type": "code",
        "colab": {
          "base_uri": "https://localhost:8080/",
          "height": 187
        },
        "outputId": "6a761fcd-6401-4f72-daf1-1f0df86ebe2d"
      },
      "source": [
        "print(nx*ny)\n",
        "print(nx-ny)\n",
        "print(nx+ny)\n",
        "print(nx/ny)\n",
        "print(nx**ny)"
      ],
      "execution_count": 16,
      "outputs": [
        {
          "output_type": "stream",
          "text": [
            "[[ 6 14 24]\n",
            " [36 40 30]]\n",
            "[[-5 -5 -5]\n",
            " [-5 -3  1]]\n",
            "[[ 7  9 11]\n",
            " [13 13 11]]\n",
            "[[0.16666667 0.28571429 0.375     ]\n",
            " [0.44444444 0.625      1.2       ]]\n",
            "[[     1    128   6561]\n",
            " [262144 390625   7776]]\n"
          ],
          "name": "stdout"
        }
      ]
    },
    {
      "cell_type": "code",
      "metadata": {
        "id": "1ZtehqAxQ8gE",
        "colab_type": "code",
        "colab": {}
      },
      "source": [
        "px = torch.tensor([1.0, 2, 4, 8])\n",
        "py = torch.tensor([2, 2, 2, 2])"
      ],
      "execution_count": 17,
      "outputs": []
    },
    {
      "cell_type": "code",
      "metadata": {
        "id": "PNvtBWJXRTXS",
        "colab_type": "code",
        "colab": {
          "base_uri": "https://localhost:8080/",
          "height": 102
        },
        "outputId": "6ec73d11-8b3a-4101-b813-d9680915a1af"
      },
      "source": [
        "print(px*py)\n",
        "print(px-py)\n",
        "print(px+py)\n",
        "print(px/py)\n",
        "print(px**py)"
      ],
      "execution_count": 18,
      "outputs": [
        {
          "output_type": "stream",
          "text": [
            "tensor([ 2.,  4.,  8., 16.])\n",
            "tensor([-1.,  0.,  2.,  6.])\n",
            "tensor([ 3.,  4.,  6., 10.])\n",
            "tensor([0.5000, 1.0000, 2.0000, 4.0000])\n",
            "tensor([ 1.,  4., 16., 64.])\n"
          ],
          "name": "stdout"
        }
      ]
    },
    {
      "cell_type": "code",
      "metadata": {
        "id": "A9J4VY3XRsWi",
        "colab_type": "code",
        "colab": {
          "base_uri": "https://localhost:8080/",
          "height": 102
        },
        "outputId": "45b7b32a-59bf-4b5a-a6a8-88e481e3583f"
      },
      "source": [
        "x = tf.constant([1.0, 2, 4, 8])\n",
        "y = tf.constant([2.0, 2, 2, 2])\n",
        "x + y, x - y, x * y, x / y, x ** y "
      ],
      "execution_count": 19,
      "outputs": [
        {
          "output_type": "execute_result",
          "data": {
            "text/plain": [
              "(<tf.Tensor: shape=(4,), dtype=float32, numpy=array([ 3.,  4.,  6., 10.], dtype=float32)>,\n",
              " <tf.Tensor: shape=(4,), dtype=float32, numpy=array([-1.,  0.,  2.,  6.], dtype=float32)>,\n",
              " <tf.Tensor: shape=(4,), dtype=float32, numpy=array([ 2.,  4.,  8., 16.], dtype=float32)>,\n",
              " <tf.Tensor: shape=(4,), dtype=float32, numpy=array([0.5, 1. , 2. , 4. ], dtype=float32)>,\n",
              " <tf.Tensor: shape=(4,), dtype=float32, numpy=array([ 1.,  4., 16., 64.], dtype=float32)>)"
            ]
          },
          "metadata": {
            "tags": []
          },
          "execution_count": 19
        }
      ]
    },
    {
      "cell_type": "code",
      "metadata": {
        "id": "eygZfe7RSGWX",
        "colab_type": "code",
        "colab": {
          "base_uri": "https://localhost:8080/",
          "height": 51
        },
        "outputId": "4387190c-5e3a-48fe-d9bc-c4fd8d677c56"
      },
      "source": [
        "np.exp(nx)"
      ],
      "execution_count": 20,
      "outputs": [
        {
          "output_type": "execute_result",
          "data": {
            "text/plain": [
              "array([[  2.71828183,   7.3890561 ,  20.08553692],\n",
              "       [ 54.59815003, 148.4131591 , 403.42879349]])"
            ]
          },
          "metadata": {
            "tags": []
          },
          "execution_count": 20
        }
      ]
    },
    {
      "cell_type": "code",
      "metadata": {
        "id": "l5nD3bs-Su1S",
        "colab_type": "code",
        "colab": {
          "base_uri": "https://localhost:8080/",
          "height": 34
        },
        "outputId": "0776a64e-6e2e-4ab4-c80e-42d828915914"
      },
      "source": [
        "torch.exp(px)"
      ],
      "execution_count": 21,
      "outputs": [
        {
          "output_type": "execute_result",
          "data": {
            "text/plain": [
              "tensor([2.7183e+00, 7.3891e+00, 5.4598e+01, 2.9810e+03])"
            ]
          },
          "metadata": {
            "tags": []
          },
          "execution_count": 21
        }
      ]
    },
    {
      "cell_type": "code",
      "metadata": {
        "id": "zbKGmcmxSza8",
        "colab_type": "code",
        "colab": {
          "base_uri": "https://localhost:8080/",
          "height": 68
        },
        "outputId": "69307885-071e-4c9d-a8db-d141b4ef0af4"
      },
      "source": [
        "tf.exp(x)"
      ],
      "execution_count": 22,
      "outputs": [
        {
          "output_type": "execute_result",
          "data": {
            "text/plain": [
              "<tf.Tensor: shape=(4,), dtype=float32, numpy=\n",
              "array([2.7182817e+00, 7.3890562e+00, 5.4598148e+01, 2.9809580e+03],\n",
              "      dtype=float32)>"
            ]
          },
          "metadata": {
            "tags": []
          },
          "execution_count": 22
        }
      ]
    },
    {
      "cell_type": "code",
      "metadata": {
        "id": "Lcot1dp9S1mk",
        "colab_type": "code",
        "colab": {
          "base_uri": "https://localhost:8080/",
          "height": 119
        },
        "outputId": "e885b5b4-c72e-4129-bbb4-be952755af3e"
      },
      "source": [
        "nx = np.arange(12).reshape(3,4)\n",
        "ny = np.array([[1,2,3,1],[2,3,4,3],[4,5,6,7]])\n",
        "np.concatenate([nx,ny],axis=0)\n"
      ],
      "execution_count": 23,
      "outputs": [
        {
          "output_type": "execute_result",
          "data": {
            "text/plain": [
              "array([[ 0,  1,  2,  3],\n",
              "       [ 4,  5,  6,  7],\n",
              "       [ 8,  9, 10, 11],\n",
              "       [ 1,  2,  3,  1],\n",
              "       [ 2,  3,  4,  3],\n",
              "       [ 4,  5,  6,  7]])"
            ]
          },
          "metadata": {
            "tags": []
          },
          "execution_count": 23
        }
      ]
    },
    {
      "cell_type": "code",
      "metadata": {
        "id": "WTXbPvJUYwU7",
        "colab_type": "code",
        "colab": {
          "base_uri": "https://localhost:8080/",
          "height": 68
        },
        "outputId": "ff0ca1fd-2ac0-45b6-f914-863721c888cf"
      },
      "source": [
        "np.concatenate([nx,ny],axis=1)"
      ],
      "execution_count": 24,
      "outputs": [
        {
          "output_type": "execute_result",
          "data": {
            "text/plain": [
              "array([[ 0,  1,  2,  3,  1,  2,  3,  1],\n",
              "       [ 4,  5,  6,  7,  2,  3,  4,  3],\n",
              "       [ 8,  9, 10, 11,  4,  5,  6,  7]])"
            ]
          },
          "metadata": {
            "tags": []
          },
          "execution_count": 24
        }
      ]
    },
    {
      "cell_type": "code",
      "metadata": {
        "id": "4-gJXi3rW_0l",
        "colab_type": "code",
        "colab": {
          "base_uri": "https://localhost:8080/",
          "height": 119
        },
        "outputId": "4c76be72-68cf-46f1-a794-5e8e3351615b"
      },
      "source": [
        "px = torch.arange(12).reshape(3,4)\n",
        "py = torch.tensor([[1,2,3,1],[2,3,4,3],[4,5,6,7]])\n",
        "torch.cat([px,py],axis=0)"
      ],
      "execution_count": 25,
      "outputs": [
        {
          "output_type": "execute_result",
          "data": {
            "text/plain": [
              "tensor([[ 0,  1,  2,  3],\n",
              "        [ 4,  5,  6,  7],\n",
              "        [ 8,  9, 10, 11],\n",
              "        [ 1,  2,  3,  1],\n",
              "        [ 2,  3,  4,  3],\n",
              "        [ 4,  5,  6,  7]])"
            ]
          },
          "metadata": {
            "tags": []
          },
          "execution_count": 25
        }
      ]
    },
    {
      "cell_type": "code",
      "metadata": {
        "id": "xa59k51jYjZA",
        "colab_type": "code",
        "colab": {
          "base_uri": "https://localhost:8080/",
          "height": 68
        },
        "outputId": "16368c97-d283-4463-e2dc-4bf1875558d5"
      },
      "source": [
        "torch.cat([px,py],axis=1)"
      ],
      "execution_count": 26,
      "outputs": [
        {
          "output_type": "execute_result",
          "data": {
            "text/plain": [
              "tensor([[ 0,  1,  2,  3,  1,  2,  3,  1],\n",
              "        [ 4,  5,  6,  7,  2,  3,  4,  3],\n",
              "        [ 8,  9, 10, 11,  4,  5,  6,  7]])"
            ]
          },
          "metadata": {
            "tags": []
          },
          "execution_count": 26
        }
      ]
    },
    {
      "cell_type": "code",
      "metadata": {
        "id": "6OqWxFSfY1t8",
        "colab_type": "code",
        "colab": {
          "base_uri": "https://localhost:8080/",
          "height": 136
        },
        "outputId": "f8977e3a-ecf7-4893-dbfa-aff02b6ae6a3"
      },
      "source": [
        "tx=tf.reshape(tf.range(12),(3,4))\n",
        "ty=tf.constant([[1,2,3,1],[2,3,4,3],[4,5,6,7]])\n",
        "tf.concat([tx,ty],axis=0)\n"
      ],
      "execution_count": 27,
      "outputs": [
        {
          "output_type": "execute_result",
          "data": {
            "text/plain": [
              "<tf.Tensor: shape=(6, 4), dtype=int32, numpy=\n",
              "array([[ 0,  1,  2,  3],\n",
              "       [ 4,  5,  6,  7],\n",
              "       [ 8,  9, 10, 11],\n",
              "       [ 1,  2,  3,  1],\n",
              "       [ 2,  3,  4,  3],\n",
              "       [ 4,  5,  6,  7]], dtype=int32)>"
            ]
          },
          "metadata": {
            "tags": []
          },
          "execution_count": 27
        }
      ]
    },
    {
      "cell_type": "code",
      "metadata": {
        "id": "_vSVw5nZZbDA",
        "colab_type": "code",
        "colab": {
          "base_uri": "https://localhost:8080/",
          "height": 85
        },
        "outputId": "78f07484-b5ab-4e3f-a6f2-9819b9895ca9"
      },
      "source": [
        "tf.concat([tx,ty],axis=1)"
      ],
      "execution_count": 28,
      "outputs": [
        {
          "output_type": "execute_result",
          "data": {
            "text/plain": [
              "<tf.Tensor: shape=(3, 8), dtype=int32, numpy=\n",
              "array([[ 0,  1,  2,  3,  1,  2,  3,  1],\n",
              "       [ 4,  5,  6,  7,  2,  3,  4,  3],\n",
              "       [ 8,  9, 10, 11,  4,  5,  6,  7]], dtype=int32)>"
            ]
          },
          "metadata": {
            "tags": []
          },
          "execution_count": 28
        }
      ]
    },
    {
      "cell_type": "code",
      "metadata": {
        "id": "0cMJ1UdlZqZ_",
        "colab_type": "code",
        "colab": {
          "base_uri": "https://localhost:8080/",
          "height": 68
        },
        "outputId": "c6457f23-4cb9-4319-d2a6-7297dced9ddb"
      },
      "source": [
        "nx==ny\n"
      ],
      "execution_count": 29,
      "outputs": [
        {
          "output_type": "execute_result",
          "data": {
            "text/plain": [
              "array([[False, False, False, False],\n",
              "       [False, False, False, False],\n",
              "       [False, False, False, False]])"
            ]
          },
          "metadata": {
            "tags": []
          },
          "execution_count": 29
        }
      ]
    },
    {
      "cell_type": "code",
      "metadata": {
        "id": "2FIf9RWvaFeu",
        "colab_type": "code",
        "colab": {
          "base_uri": "https://localhost:8080/",
          "height": 85
        },
        "outputId": "4c40f895-9384-4e47-a8a6-38692a0d1f5f"
      },
      "source": [
        "tx==ty"
      ],
      "execution_count": 30,
      "outputs": [
        {
          "output_type": "execute_result",
          "data": {
            "text/plain": [
              "<tf.Tensor: shape=(3, 4), dtype=bool, numpy=\n",
              "array([[False, False, False, False],\n",
              "       [False, False, False, False],\n",
              "       [False, False, False, False]])>"
            ]
          },
          "metadata": {
            "tags": []
          },
          "execution_count": 30
        }
      ]
    },
    {
      "cell_type": "code",
      "metadata": {
        "id": "V4z1br6gaNOn",
        "colab_type": "code",
        "colab": {
          "base_uri": "https://localhost:8080/",
          "height": 34
        },
        "outputId": "9ffa84fc-2516-41e0-c60f-db225914389c"
      },
      "source": [
        "## Summing all the elements in the tensor yields a tensor with only one element.\n",
        "tf.reduce_sum(tx)"
      ],
      "execution_count": 31,
      "outputs": [
        {
          "output_type": "execute_result",
          "data": {
            "text/plain": [
              "<tf.Tensor: shape=(), dtype=int32, numpy=66>"
            ]
          },
          "metadata": {
            "tags": []
          },
          "execution_count": 31
        }
      ]
    },
    {
      "cell_type": "code",
      "metadata": {
        "id": "9uluKBlJbD1N",
        "colab_type": "code",
        "colab": {
          "base_uri": "https://localhost:8080/",
          "height": 34
        },
        "outputId": "2bf238a4-500d-4a85-c80f-ec58bd6e6629"
      },
      "source": [
        "nx.sum()"
      ],
      "execution_count": 32,
      "outputs": [
        {
          "output_type": "execute_result",
          "data": {
            "text/plain": [
              "66"
            ]
          },
          "metadata": {
            "tags": []
          },
          "execution_count": 32
        }
      ]
    },
    {
      "cell_type": "code",
      "metadata": {
        "id": "R03kyQhSadTa",
        "colab_type": "code",
        "colab": {
          "base_uri": "https://localhost:8080/",
          "height": 34
        },
        "outputId": "ff6d599d-e0e6-4ea2-ce9d-11afeb5cd032"
      },
      "source": [
        "px.sum()"
      ],
      "execution_count": 33,
      "outputs": [
        {
          "output_type": "execute_result",
          "data": {
            "text/plain": [
              "tensor(66)"
            ]
          },
          "metadata": {
            "tags": []
          },
          "execution_count": 33
        }
      ]
    },
    {
      "cell_type": "markdown",
      "metadata": {
        "id": "o4GkCW2ybNrJ",
        "colab_type": "text"
      },
      "source": [
        "## Broadcasting Mechanism"
      ]
    },
    {
      "cell_type": "code",
      "metadata": {
        "id": "pCM9GHGabVut",
        "colab_type": "code",
        "colab": {
          "base_uri": "https://localhost:8080/",
          "height": 68
        },
        "outputId": "fa992a34-330d-47db-e8d9-1b751b0517f9"
      },
      "source": [
        "na = np.arange(3).reshape(3,1)\n",
        "nb = np.arange(2).reshape(1,2)\n",
        "na,nb"
      ],
      "execution_count": 34,
      "outputs": [
        {
          "output_type": "execute_result",
          "data": {
            "text/plain": [
              "(array([[0],\n",
              "        [1],\n",
              "        [2]]), array([[0, 1]]))"
            ]
          },
          "metadata": {
            "tags": []
          },
          "execution_count": 34
        }
      ]
    },
    {
      "cell_type": "code",
      "metadata": {
        "id": "YiKrlsLPa3o_",
        "colab_type": "code",
        "colab": {
          "base_uri": "https://localhost:8080/",
          "height": 68
        },
        "outputId": "f8723ab2-1e7a-485b-a512-f3198c48df1f"
      },
      "source": [
        "pa = torch.arange(3).reshape(3,1)\n",
        "pb = torch.arange(2).reshape(1,2)\n",
        "pa,pb"
      ],
      "execution_count": 35,
      "outputs": [
        {
          "output_type": "execute_result",
          "data": {
            "text/plain": [
              "(tensor([[0],\n",
              "         [1],\n",
              "         [2]]), tensor([[0, 1]]))"
            ]
          },
          "metadata": {
            "tags": []
          },
          "execution_count": 35
        }
      ]
    },
    {
      "cell_type": "code",
      "metadata": {
        "id": "X0l-AWjabMlg",
        "colab_type": "code",
        "colab": {
          "base_uri": "https://localhost:8080/",
          "height": 102
        },
        "outputId": "0e3e4bae-5b16-40ab-c24a-e0ea38a76bbd"
      },
      "source": [
        "ta = tf.reshape(tf.range(3),(3,1))\n",
        "tb = tf.reshape(tf.range(2),(1,2))\n",
        "ta,tb"
      ],
      "execution_count": 36,
      "outputs": [
        {
          "output_type": "execute_result",
          "data": {
            "text/plain": [
              "(<tf.Tensor: shape=(3, 1), dtype=int32, numpy=\n",
              " array([[0],\n",
              "        [1],\n",
              "        [2]], dtype=int32)>,\n",
              " <tf.Tensor: shape=(1, 2), dtype=int32, numpy=array([[0, 1]], dtype=int32)>)"
            ]
          },
          "metadata": {
            "tags": []
          },
          "execution_count": 36
        }
      ]
    },
    {
      "cell_type": "code",
      "metadata": {
        "id": "651_egDocNhM",
        "colab_type": "code",
        "colab": {
          "base_uri": "https://localhost:8080/",
          "height": 187
        },
        "outputId": "7d59a6ef-6516-48ba-acd6-b86900d323f6"
      },
      "source": [
        "print(na+nb)\n",
        "print(pa+pb)\n",
        "print(ta+tb)"
      ],
      "execution_count": 37,
      "outputs": [
        {
          "output_type": "stream",
          "text": [
            "[[0 1]\n",
            " [1 2]\n",
            " [2 3]]\n",
            "tensor([[0, 1],\n",
            "        [1, 2],\n",
            "        [2, 3]])\n",
            "tf.Tensor(\n",
            "[[0 1]\n",
            " [1 2]\n",
            " [2 3]], shape=(3, 2), dtype=int32)\n"
          ],
          "name": "stdout"
        }
      ]
    },
    {
      "cell_type": "markdown",
      "metadata": {
        "id": "d04qTBX1cjsN",
        "colab_type": "text"
      },
      "source": [
        "## Indexing and Slicing"
      ]
    },
    {
      "cell_type": "code",
      "metadata": {
        "id": "gmHt_g33ceIe",
        "colab_type": "code",
        "colab": {
          "base_uri": "https://localhost:8080/",
          "height": 51
        },
        "outputId": "b2e5a17e-cf6f-4d93-9f07-80e3b9b6c363"
      },
      "source": [
        "nx[-1], nx[1:3]"
      ],
      "execution_count": 38,
      "outputs": [
        {
          "output_type": "execute_result",
          "data": {
            "text/plain": [
              "(array([ 8,  9, 10, 11]), array([[ 4,  5,  6,  7],\n",
              "        [ 8,  9, 10, 11]]))"
            ]
          },
          "metadata": {
            "tags": []
          },
          "execution_count": 38
        }
      ]
    },
    {
      "cell_type": "code",
      "metadata": {
        "id": "td_qgbsXcxhK",
        "colab_type": "code",
        "colab": {
          "base_uri": "https://localhost:8080/",
          "height": 51
        },
        "outputId": "47ee77a6-7bfb-4f6f-8190-ed72f02ad1b0"
      },
      "source": [
        "px[-1], py[1:3]"
      ],
      "execution_count": 39,
      "outputs": [
        {
          "output_type": "execute_result",
          "data": {
            "text/plain": [
              "(tensor([ 8,  9, 10, 11]), tensor([[2, 3, 4, 3],\n",
              "         [4, 5, 6, 7]]))"
            ]
          },
          "metadata": {
            "tags": []
          },
          "execution_count": 39
        }
      ]
    },
    {
      "cell_type": "code",
      "metadata": {
        "id": "K87lYoCJc5LM",
        "colab_type": "code",
        "colab": {
          "base_uri": "https://localhost:8080/",
          "height": 85
        },
        "outputId": "de743ad6-23d3-44d7-ed0e-3f71423d81b6"
      },
      "source": [
        "tx[-1], ty[1:3]"
      ],
      "execution_count": 40,
      "outputs": [
        {
          "output_type": "execute_result",
          "data": {
            "text/plain": [
              "(<tf.Tensor: shape=(4,), dtype=int32, numpy=array([ 8,  9, 10, 11], dtype=int32)>,\n",
              " <tf.Tensor: shape=(2, 4), dtype=int32, numpy=\n",
              " array([[2, 3, 4, 3],\n",
              "        [4, 5, 6, 7]], dtype=int32)>)"
            ]
          },
          "metadata": {
            "tags": []
          },
          "execution_count": 40
        }
      ]
    },
    {
      "cell_type": "code",
      "metadata": {
        "id": "0wlpZ8pwc-zL",
        "colab_type": "code",
        "colab": {
          "base_uri": "https://localhost:8080/",
          "height": 68
        },
        "outputId": "12a18736-d3f4-418f-959d-a626eb28d323"
      },
      "source": [
        "nx[1, 2] = 9\n",
        "nx"
      ],
      "execution_count": 41,
      "outputs": [
        {
          "output_type": "execute_result",
          "data": {
            "text/plain": [
              "array([[ 0,  1,  2,  3],\n",
              "       [ 4,  5,  9,  7],\n",
              "       [ 8,  9, 10, 11]])"
            ]
          },
          "metadata": {
            "tags": []
          },
          "execution_count": 41
        }
      ]
    },
    {
      "cell_type": "code",
      "metadata": {
        "id": "kFHr7I1gdeKG",
        "colab_type": "code",
        "colab": {}
      },
      "source": [
        "px[1, 2] = 9"
      ],
      "execution_count": 42,
      "outputs": []
    },
    {
      "cell_type": "code",
      "metadata": {
        "id": "v4MTerm4dXsm",
        "colab_type": "code",
        "colab": {
          "base_uri": "https://localhost:8080/",
          "height": 85
        },
        "outputId": "6c47a56a-b45f-42b3-fad4-2557233ce0aa"
      },
      "source": [
        "X_var = tf.Variable(tx)\n",
        "X_var[1, 2].assign(9)\n",
        "X_var"
      ],
      "execution_count": 43,
      "outputs": [
        {
          "output_type": "execute_result",
          "data": {
            "text/plain": [
              "<tf.Variable 'Variable:0' shape=(3, 4) dtype=int32, numpy=\n",
              "array([[ 0,  1,  2,  3],\n",
              "       [ 4,  5,  9,  7],\n",
              "       [ 8,  9, 10, 11]], dtype=int32)>"
            ]
          },
          "metadata": {
            "tags": []
          },
          "execution_count": 43
        }
      ]
    },
    {
      "cell_type": "code",
      "metadata": {
        "id": "3Tw1p5K0dhgt",
        "colab_type": "code",
        "colab": {
          "base_uri": "https://localhost:8080/",
          "height": 68
        },
        "outputId": "79b7600d-9021-44fa-ae79-da95fc001d21"
      },
      "source": [
        "nx[0:2, :] = 12\n",
        "nx"
      ],
      "execution_count": 44,
      "outputs": [
        {
          "output_type": "execute_result",
          "data": {
            "text/plain": [
              "array([[12, 12, 12, 12],\n",
              "       [12, 12, 12, 12],\n",
              "       [ 8,  9, 10, 11]])"
            ]
          },
          "metadata": {
            "tags": []
          },
          "execution_count": 44
        }
      ]
    },
    {
      "cell_type": "code",
      "metadata": {
        "id": "FPnRmtM1epYf",
        "colab_type": "code",
        "colab": {
          "base_uri": "https://localhost:8080/",
          "height": 68
        },
        "outputId": "fad78130-7b84-4a81-b59f-b6896525b302"
      },
      "source": [
        "px[0:2,:]=12\n",
        "px"
      ],
      "execution_count": 45,
      "outputs": [
        {
          "output_type": "execute_result",
          "data": {
            "text/plain": [
              "tensor([[12, 12, 12, 12],\n",
              "        [12, 12, 12, 12],\n",
              "        [ 8,  9, 10, 11]])"
            ]
          },
          "metadata": {
            "tags": []
          },
          "execution_count": 45
        }
      ]
    },
    {
      "cell_type": "code",
      "metadata": {
        "id": "M6-HS2zCeyH5",
        "colab_type": "code",
        "colab": {
          "base_uri": "https://localhost:8080/",
          "height": 85
        },
        "outputId": "510b7c08-b4a9-4433-d9d4-dd0b4e898c13"
      },
      "source": [
        "tx = tf.reshape(tf.range(12, dtype=tf.float32), (3, 4))\n",
        "X_var = tf.Variable(tx)\n",
        "X_var[0:2, :].assign(tf.ones(X_var[0:2,:].shape, dtype = tf.float32) * 12)\n",
        "X_var"
      ],
      "execution_count": 46,
      "outputs": [
        {
          "output_type": "execute_result",
          "data": {
            "text/plain": [
              "<tf.Variable 'Variable:0' shape=(3, 4) dtype=float32, numpy=\n",
              "array([[12., 12., 12., 12.],\n",
              "       [12., 12., 12., 12.],\n",
              "       [ 8.,  9., 10., 11.]], dtype=float32)>"
            ]
          },
          "metadata": {
            "tags": []
          },
          "execution_count": 46
        }
      ]
    },
    {
      "cell_type": "code",
      "metadata": {
        "id": "zyInTbile3vM",
        "colab_type": "code",
        "colab": {}
      },
      "source": [
        ""
      ],
      "execution_count": null,
      "outputs": []
    }
  ]
}